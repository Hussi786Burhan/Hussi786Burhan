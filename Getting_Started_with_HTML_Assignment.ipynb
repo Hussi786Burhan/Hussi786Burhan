{
  "nbformat": 4,
  "nbformat_minor": 0,
  "metadata": {
    "colab": {
      "provenance": []
    },
    "kernelspec": {
      "name": "python3",
      "display_name": "Python 3"
    },
    "language_info": {
      "name": "python"
    }
  },
  "cells": [
    {
      "cell_type": "markdown",
      "source": [
        " Q:1  write a simple program in html that displays the heading \"HTML defines the content and structure of your website\" on the browser ?"
      ],
      "metadata": {
        "id": "jX1vfAxKy50A"
      }
    },
    {
      "cell_type": "code",
      "source": [
        "<!DOCTYPE html>\n",
        "<html lang=\"en\">\n",
        "<head>\n",
        "    <meta charset=\"UTF-8\">\n",
        "    <meta name=\"viewport\" content=\"width=device-width, initial-scale=1.0\">\n",
        "    <title>HTML Heading Example</title>\n",
        "</head>\n",
        "<body>\n",
        "    <h1>HTML defines the content and structure of your website</h1>\n",
        "</body>\n",
        "</html>\n"
      ],
      "metadata": {
        "id": "nuHjgmjt6j9k"
      },
      "execution_count": null,
      "outputs": []
    },
    {
      "cell_type": "code",
      "source": [],
      "metadata": {
        "id": "uiGIvSfI6j7w"
      },
      "execution_count": null,
      "outputs": []
    },
    {
      "cell_type": "markdown",
      "source": [
        "Q:2  Explain the purpose of comments in HTML and provide an example of how to use comments in an html document ?"
      ],
      "metadata": {
        "id": "8rinynco6tJU"
      }
    },
    {
      "cell_type": "code",
      "source": [
        "<!DOCTYPE html>\n",
        "<html>\n",
        "<head>\n",
        "    <title>HTML Comments</title>\n",
        "</head>\n",
        "<body>\n",
        "    <!-- This is a heading -->\n",
        "    <h1>Welcome to My Website</h1>\n",
        "\n",
        "    <!-- Below is a paragraph -->\n",
        "    <p>This is a paragraph explaining the importance of comments in HTML.</p>\n",
        "</body>\n",
        "</html>\n"
      ],
      "metadata": {
        "id": "zRVuGCbl7Tmv"
      },
      "execution_count": null,
      "outputs": []
    },
    {
      "cell_type": "markdown",
      "source": [],
      "metadata": {
        "id": "g3d6va6O6tHO"
      }
    },
    {
      "cell_type": "markdown",
      "source": [],
      "metadata": {
        "id": "d--WYNX_8Vqo"
      }
    },
    {
      "cell_type": "markdown",
      "source": [
        "Q:3 write an html program that includes a haeding a paragraphof text a horizontal line and a line break Arrange this elements to create a simpleweb page layout?"
      ],
      "metadata": {
        "id": "RBd9QQoq8Vtu"
      }
    },
    {
      "cell_type": "code",
      "source": [
        "<!DOCTYPE html>\n",
        "<html>\n",
        "<head>\n",
        "    <title>Simple Web Page</title>\n",
        "</head>\n",
        "<body>\n",
        "    <h1>Welcome to HTML</h1>\n",
        "    <p>HTML is the standard markup language for creating web pages.</p>\n",
        "    <hr>  <!-- Horizontal line -->\n",
        "    <p>This is a new paragraph.<br>Here is a line break.</p>\n",
        "</body>\n",
        "</html>\n"
      ],
      "metadata": {
        "id": "SbbryChU9HR5"
      },
      "execution_count": null,
      "outputs": []
    },
    {
      "cell_type": "markdown",
      "source": [
        "Q:4 write a short note ontag and elemnent witha example?\n",
        "\n",
        "Ans- A Tag is a keyword enclosed within angle brackets (< >) that defines how content should be structured or displayed.\n",
        "\n",
        "An Element consists of an opening tag, content, and a closing tag.\n",
        "\n",
        "Example:\n",
        "html\n",
        "Copy\n",
        "Edit\n",
        "<p>This is an HTML paragraph.</p>\n",
        "<p> is the opening tag.\n",
        "\n",
        "\"This is an HTML paragraph.\" is the content.\n",
        "\n",
        "</p> is the closing tag.\n",
        "\n",
        "Together, they form a paragraph element.\n",
        "\n"
      ],
      "metadata": {
        "id": "HSWVsahT9NzO"
      }
    },
    {
      "cell_type": "markdown",
      "source": [],
      "metadata": {
        "id": "aU3FCe0V94Uu"
      }
    },
    {
      "cell_type": "markdown",
      "source": [],
      "metadata": {
        "id": "ySKpqYHR9NxD"
      }
    },
    {
      "cell_type": "markdown",
      "source": [
        "Q:5 what is doctype declaration in html ?\n",
        "\n",
        "Ans - The DOCTYPE declaration in HTML tells the browser which version of HTML is being used so it can render the page correctly. It is always placed at the beginning of an HTML document.\n",
        "\n",
        "Example:\n",
        "html\n",
        "Copy\n",
        "Edit\n",
        "<!DOCTYPE html>\n",
        "<html>\n",
        "<head>\n",
        "    <title>DOCTYPE Example</title>\n",
        "</head>\n",
        "<body>\n",
        "    <p>This document follows the HTML5 standard.</p>\n",
        "</body>\n",
        "</html>\n",
        "<!DOCTYPE html> specifies that the document is an HTML5 document.\n",
        "\n"
      ],
      "metadata": {
        "id": "DqLpXljb94X6"
      }
    },
    {
      "cell_type": "code",
      "source": [],
      "metadata": {
        "id": "Zw0SvfFN9HXG"
      },
      "execution_count": null,
      "outputs": []
    },
    {
      "cell_type": "code",
      "source": [],
      "metadata": {
        "id": "Od0mC8A99HU7"
      },
      "execution_count": null,
      "outputs": []
    },
    {
      "cell_type": "markdown",
      "source": [],
      "metadata": {
        "id": "upuqYeBO6tFJ"
      }
    }
  ]
}